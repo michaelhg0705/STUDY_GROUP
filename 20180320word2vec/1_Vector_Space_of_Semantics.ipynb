{
 "cells": [
  {
   "cell_type": "code",
   "execution_count": 1,
   "metadata": {},
   "outputs": [
    {
     "name": "stdout",
     "output_type": "stream",
     "text": [
      "[['the', 'dog', 'run'], ['a', 'cat', 'run'], ['a', 'dog', 'sleep'], ['the', 'cat', 'sleep'], ['a', 'dog', 'bark'], ['the', 'cat', 'meows'], ['the', 'bird', 'fly'], ['a', 'bird', 'sleep']]\n"
     ]
    }
   ],
   "source": [
    "import numpy as np\n",
    "import matplotlib.pyplot as plt\n",
    "from functools import reduce\n",
    "\n",
    "with open(\"./data/text1.txt\", 'r') as f:\n",
    "    text = [line.lower().strip()[:-1].split() for line in f]\n",
    "    \n",
    "print(text)"
   ]
  },
  {
   "cell_type": "code",
   "execution_count": 3,
   "metadata": {},
   "outputs": [
    {
     "name": "stdout",
     "output_type": "stream",
     "text": [
      "{'a': 0, 'bark': 1, 'bird': 2, 'cat': 3, 'dog': 4, 'fly': 5, 'meows': 6, 'run': 7, 'sleep': 8, 'the': 9}\n",
      "{0: 'a', 1: 'bark', 2: 'bird', 3: 'cat', 4: 'dog', 5: 'fly', 6: 'meows', 7: 'run', 8: 'sleep', 9: 'the'}\n",
      "[[0. 0. 1. 1. 2. 0. 0. 0. 0. 0.]\n",
      " [0. 0. 0. 0. 1. 0. 0. 0. 0. 0.]\n",
      " [1. 0. 0. 0. 0. 1. 0. 0. 1. 1.]\n",
      " [1. 0. 0. 0. 0. 0. 1. 1. 1. 2.]\n",
      " [2. 1. 0. 0. 0. 0. 0. 1. 1. 1.]\n",
      " [0. 0. 1. 0. 0. 0. 0. 0. 0. 0.]\n",
      " [0. 0. 0. 1. 0. 0. 0. 0. 0. 0.]\n",
      " [0. 0. 0. 1. 1. 0. 0. 0. 0. 0.]\n",
      " [0. 0. 1. 1. 1. 0. 0. 0. 0. 0.]\n",
      " [0. 0. 1. 2. 1. 0. 0. 0. 0. 0.]]\n",
      "[2. 1. 0. 0. 0. 0. 0. 1. 1. 1.]\n",
      "[1. 0. 0. 0. 0. 0. 1. 1. 1. 2.]\n"
     ]
    }
   ],
   "source": [
    "def build_word_vector(text):\n",
    "    word2id = {w: i for i, w in enumerate(sorted(list(set(reduce(lambda a, b: a + b, text)))))}\n",
    "    id2word = {x[1]: x[0] for x in word2id.items()}\n",
    "    wvectors = np.zeros((len(word2id), len(word2id)))\n",
    "    for sentence in text:\n",
    "        for word1, word2 in zip(sentence[:-1], sentence[1:]):\n",
    "            id1, id2 = word2id[word1], word2id[word2]\n",
    "            wvectors[id1, id2] += 1\n",
    "            wvectors[id2, id1] += 1\n",
    "    return wvectors, word2id, id2word\n",
    "\n",
    "wvectors, word2id, id2word = build_word_vector(text)\n",
    "\n",
    "print(word2id)\n",
    "print(id2word)\n",
    "print(wvectors)\n",
    "print(wvectors[word2id[\"dog\"]])\n",
    "print(wvectors[word2id[\"cat\"]])"
   ]
  },
  {
   "cell_type": "code",
   "execution_count": 4,
   "metadata": {},
   "outputs": [
    {
     "name": "stdout",
     "output_type": "stream",
     "text": [
      "3.1622776601683795\n",
      "3.0\n"
     ]
    }
   ],
   "source": [
    "def euclidean_dis(v1, v2):\n",
    "    return np.sqrt(np.sum(np.power(np.subtract(v1, v2), 2)))\n",
    "\n",
    "print(euclidean_dis(wvectors[word2id[\"dog\"]], wvectors[word2id[\"run\"]]))\n",
    "print(euclidean_dis(wvectors[word2id[\"dog\"]], wvectors[word2id[\"fly\"]]))"
   ]
  },
  {
   "cell_type": "code",
   "execution_count": 5,
   "metadata": {
    "scrolled": true
   },
   "outputs": [
    {
     "name": "stdout",
     "output_type": "stream",
     "text": [
      "[2. 1. 0. 0. 0. 0. 0. 1. 1. 1.]\n",
      "[1. 0. 0. 0. 0. 0. 1. 1. 1. 2.]\n",
      "0.7499999999999999\n",
      "0.4999999999999999\n"
     ]
    }
   ],
   "source": [
    "def cosine_sim(v1, v2):\n",
    "    return np.dot(v1, v2) / (np.sqrt(np.sum(np.power(v1, 2))) * np.sqrt(np.sum(np.power(v1, 2))))\n",
    "\n",
    "print(wvectors[word2id[\"dog\"]])\n",
    "print(wvectors[word2id[\"cat\"]])\n",
    "print(cosine_sim(wvectors[word2id[\"dog\"]], wvectors[word2id[\"cat\"]]))\n",
    "print(cosine_sim(wvectors[word2id[\"dog\"]], wvectors[word2id[\"bird\"]]))"
   ]
  },
  {
   "cell_type": "code",
   "execution_count": 6,
   "metadata": {
    "scrolled": true
   },
   "outputs": [
    {
     "name": "stdout",
     "output_type": "stream",
     "text": [
      "###Euclidean distance###\n",
      "2.0\n",
      "1.7320508075688772\n",
      "###Cosine similarity###\n",
      "1.4999999999999998\n",
      "0.9999999999999998\n"
     ]
    }
   ],
   "source": [
    "def normalizing(wvectors):\n",
    "    linfnorm = np.linalg.norm(wvectors, axis=1, ord=np.inf) # inf = max(sum(abs(x), axis=1))\n",
    "    return wvectors.astype(np.float) / linfnorm[:,None]\n",
    "\n",
    "wvectors_n = normalizing(wvectors)\n",
    "\n",
    "# Euclidean distance\n",
    "print(\"###Euclidean distance###\")\n",
    "print(euclidean_dis(wvectors_n[word2id[\"dog\"]], wvectors_n[word2id[\"run\"]]))\n",
    "print(euclidean_dis(wvectors_n[word2id[\"dog\"]], wvectors_n[word2id[\"fly\"]]))\n",
    "\n",
    "# Cosine similarity\n",
    "print(\"###Cosine similarity###\")\n",
    "print(cosine_sim(wvectors_n[word2id[\"dog\"]], wvectors[word2id[\"cat\"]]))\n",
    "print(cosine_sim(wvectors_n[word2id[\"dog\"]], wvectors[word2id[\"bird\"]]))"
   ]
  },
  {
   "cell_type": "code",
   "execution_count": 8,
   "metadata": {},
   "outputs": [
    {
     "data": {
      "image/png": "[encoded data removed]",
      "text/plain": [
       "<matplotlib.figure.Figure at 0x105971f98>"
      ]
     },
     "metadata": {},
     "output_type": "display_data"
    }
   ],
   "source": [
    "def visualize(wvectors, id2word):\n",
    "    np.random.seed(10)\n",
    "    fig = plt.figure()\n",
    "    U, sigma, Vh = np.linalg.svd(wvectors)\n",
    "    ax = fig.add_subplot(111)\n",
    "    ax.axis([-1, 1, -1, 1])\n",
    "    for i in id2word:\n",
    "        ax.text(U[i, 0], U[i, 1], id2word[i], alpha=0.8, fontsize=20)\n",
    "    plt.show()\n",
    "    \n",
    "visualize(wvectors, id2word)"
   ]
  },
  {
   "cell_type": "code",
   "execution_count": 7,
   "metadata": {},
   "outputs": [
    {
     "data": {
      "image/png": "[encoded data removed]",
      "text/plain": [
       "<matplotlib.figure.Figure at 0x11086f390>"
      ]
     },
     "metadata": {},
     "output_type": "display_data"
    }
   ],
   "source": [
    "visualize(wvectors_n, id2word)"
   ]
  },
  {
   "cell_type": "code",
   "execution_count": null,
   "metadata": {},
   "outputs": [],
   "source": []
  }
 ],
 "metadata": {
  "kernelspec": {
   "display_name": "Python 3",
   "language": "python",
   "name": "python3"
  },
  "language_info": {
   "codemirror_mode": {
    "name": "ipython",
    "version": 3
   },
   "file_extension": ".py",
   "mimetype": "text/x-python",
   "name": "python",
   "nbconvert_exporter": "python",
   "pygments_lexer": "ipython3",
   "version": "3.6.3"
  }
 },
 "nbformat": 4,
 "nbformat_minor": 2
}
