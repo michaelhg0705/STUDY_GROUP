{
 "cells": [
  {
   "cell_type": "code",
   "execution_count": null,
   "metadata": {},
   "outputs": [],
   "source": [
    "import numpy as np\n",
    "import matplotlib.pyplot as plt\n",
    "from functools import reduce\n",
    "\n",
    "# Load text1.txt\n",
    "with open(\"./data/text1.txt\", 'r') as f:\n",
    "    # Your turn!!!\n",
    "    \n",
    "# [['the', 'dog', 'run'],\n",
    "#  ['a', 'cat', 'run'],\n",
    "#  ['a', 'dog', 'sleep'],\n",
    "#  ['the', 'cat', 'sleep'],\n",
    "#  ['a', 'dog', 'bark'],\n",
    "#  ['the', 'cat', 'meows'],\n",
    "#  ['the', 'bird', 'fly'],\n",
    "#  ['a', 'bird', 'sleep']]"
   ]
  },
  {
   "cell_type": "code",
   "execution_count": null,
   "metadata": {},
   "outputs": [],
   "source": [
    "def build_word_vector(text):\n",
    "    word2id = {w: i for i, w in enumerate(sorted(list(set(reduce(lambda a, b: a + b, text)))))}\n",
    "    id2word = {x[1]: x[0] for x in word2id.items()}\n",
    "    wvectors = np.zeros((len(word2id), len(word2id)))\n",
    "    for sentence in text:\n",
    "        for word1, word2 in zip(sentence[:-1], sentence[1:]):\n",
    "            # Your turn!!!\n",
    "    return wvectors, word2id, id2word\n",
    "\n",
    "wvectors, word2id, id2word = build_word_vector(text)\n",
    "print(wvectors[word2id[\"dog\"]])\n",
    "print(wvectors[word2id[\"cat\"]])"
   ]
  },
  {
   "cell_type": "code",
   "execution_count": null,
   "metadata": {},
   "outputs": [],
   "source": [
    "def euclidean_dis(v1, v2):\n",
    "    # Your turn!!!\n",
    "\n",
    "print(euclidean_dis(wvectors[word2id[\"dog\"]], wvectors[word2id[\"run\"]]))\n",
    "print(euclidean_dis(wvectors[word2id[\"dog\"]], wvectors[word2id[\"fly\"]]))"
   ]
  },
  {
   "cell_type": "code",
   "execution_count": null,
   "metadata": {
    "scrolled": true
   },
   "outputs": [],
   "source": [
    "def cosine_sim(v1, v2):\n",
    "    # Your turn!!!\n",
    "\n",
    "print(cosine_sim(wvectors[word2id[\"dog\"]], wvectors[word2id[\"cat\"]]))\n",
    "print(cosine_sim(wvectors[word2id[\"dog\"]], wvectors[word2id[\"bird\"]]))"
   ]
  },
  {
   "cell_type": "code",
   "execution_count": null,
   "metadata": {
    "scrolled": true
   },
   "outputs": [],
   "source": [
    "def normalizing(wvectors):\n",
    "    linfnorm = np.linalg.norm(wvectors, axis=1, ord=np.inf) # inf = max(sum(abs(x), axis=1))\n",
    "    return wvectors.astype(np.float) / linfnorm[:,None]\n",
    "\n",
    "wvectors_n = normalizing(wvectors)\n",
    "\n",
    "# Euclidean distance\n",
    "print(\"###Euclidean distance###\")\n",
    "print(euclidean_dis(wvectors_n[word2id[\"dog\"]], wvectors_n[word2id[\"run\"]]))\n",
    "print(euclidean_dis(wvectors_n[word2id[\"dog\"]], wvectors_n[word2id[\"fly\"]]))\n",
    "\n",
    "# Cosine similarity\n",
    "print(\"###Cosine similarity###\")\n",
    "print(cosine_sim(wvectors_n[word2id[\"dog\"]], wvectors[word2id[\"cat\"]]))\n",
    "print(cosine_sim(wvectors_n[word2id[\"dog\"]], wvectors[word2id[\"bird\"]]))"
   ]
  },
  {
   "cell_type": "code",
   "execution_count": null,
   "metadata": {},
   "outputs": [],
   "source": [
    "def visualize(wvectors, id2word):\n",
    "    np.random.seed(10)\n",
    "    fig = plt.figure()\n",
    "    U, sigma, Vh = np.linalg.svd(wvectors)\n",
    "    ax = fig.add_subplot(111)\n",
    "    ax.axis([-1, 1, -1, 1])\n",
    "    for i in id2word:\n",
    "        ax.text(U[i, 0], U[i, 1], id2word[i], alpha=0.3, fontsize=20)\n",
    "    plt.show()\n",
    "    \n",
    "visualize(wvectors, id2word)"
   ]
  },
  {
   "cell_type": "code",
   "execution_count": null,
   "metadata": {},
   "outputs": [],
   "source": [
    "visualize(wvectors_n, id2word)"
   ]
  },
  {
   "cell_type": "code",
   "execution_count": null,
   "metadata": {},
   "outputs": [],
   "source": []
  }
 ],
 "metadata": {
  "kernelspec": {
   "display_name": "Python 3",
   "language": "python",
   "name": "python3"
  },
  "language_info": {
   "codemirror_mode": {
    "name": "ipython",
    "version": 3
   },
   "file_extension": ".py",
   "mimetype": "text/x-python",
   "name": "python",
   "nbconvert_exporter": "python",
   "pygments_lexer": "ipython3",
   "version": "3.6.3"
  }
 },
 "nbformat": 4,
 "nbformat_minor": 2
}
