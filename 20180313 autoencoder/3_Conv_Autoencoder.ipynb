{
 "cells": [
  {
   "cell_type": "markdown",
   "metadata": {},
   "source": [
    "# Deep Convolutional Autoencoder"
   ]
  },
  {
   "cell_type": "code",
   "execution_count": 1,
   "metadata": {},
   "outputs": [
    {
     "name": "stderr",
     "output_type": "stream",
     "text": [
      "/usr/local/lib/python3.6/dist-packages/h5py/__init__.py:36: FutureWarning: Conversion of the second argument of issubdtype from `float` to `np.floating` is deprecated. In future, it will be treated as `np.float64 == np.dtype(float).type`.\n",
      "  from ._conv import register_converters as _register_converters\n",
      "Using TensorFlow backend.\n"
     ]
    },
    {
     "name": "stdout",
     "output_type": "stream",
     "text": [
      "Train on 60000 samples, validate on 10000 samples\n",
      "Epoch 1/50\n",
      "60000/60000 [==============================] - 15s 250us/step - loss: 0.2155 - val_loss: 0.1639\n",
      "Epoch 2/50\n",
      "60000/60000 [==============================] - 12s 208us/step - loss: 0.1524 - val_loss: 0.1420\n",
      "Epoch 3/50\n",
      "60000/60000 [==============================] - 12s 204us/step - loss: 0.1393 - val_loss: 0.1334\n",
      "Epoch 4/50\n",
      "60000/60000 [==============================] - 12s 201us/step - loss: 0.1321 - val_loss: 0.1277\n",
      "Epoch 5/50\n",
      "60000/60000 [==============================] - 12s 200us/step - loss: 0.1272 - val_loss: 0.1239\n",
      "Epoch 6/50\n",
      "60000/60000 [==============================] - 12s 200us/step - loss: 0.1236 - val_loss: 0.1248\n",
      "Epoch 7/50\n",
      "60000/60000 [==============================] - 12s 201us/step - loss: 0.1210 - val_loss: 0.1170\n",
      "Epoch 8/50\n",
      "60000/60000 [==============================] - 12s 200us/step - loss: 0.1190 - val_loss: 0.1134\n",
      "Epoch 9/50\n",
      "60000/60000 [==============================] - 12s 201us/step - loss: 0.1170 - val_loss: 0.1148\n",
      "Epoch 10/50\n",
      "60000/60000 [==============================] - 12s 201us/step - loss: 0.1158 - val_loss: 0.1162\n",
      "Epoch 11/50\n",
      "60000/60000 [==============================] - 12s 202us/step - loss: 0.1145 - val_loss: 0.1131\n",
      "Epoch 12/50\n",
      "60000/60000 [==============================] - 12s 202us/step - loss: 0.1133 - val_loss: 0.1099\n",
      "Epoch 13/50\n",
      "60000/60000 [==============================] - 12s 203us/step - loss: 0.1118 - val_loss: 0.1080\n",
      "Epoch 14/50\n",
      "60000/60000 [==============================] - 12s 202us/step - loss: 0.1114 - val_loss: 0.1084\n",
      "Epoch 15/50\n",
      "60000/60000 [==============================] - 12s 202us/step - loss: 0.1107 - val_loss: 0.1093\n",
      "Epoch 16/50\n",
      "60000/60000 [==============================] - 12s 203us/step - loss: 0.1096 - val_loss: 0.1067\n",
      "Epoch 17/50\n",
      "60000/60000 [==============================] - 12s 204us/step - loss: 0.1088 - val_loss: 0.1072\n",
      "Epoch 18/50\n",
      "60000/60000 [==============================] - 12s 204us/step - loss: 0.1082 - val_loss: 0.1074\n",
      "Epoch 19/50\n",
      "60000/60000 [==============================] - 12s 204us/step - loss: 0.1074 - val_loss: 0.1070\n",
      "Epoch 20/50\n",
      "60000/60000 [==============================] - 12s 204us/step - loss: 0.1066 - val_loss: 0.1089\n",
      "Epoch 21/50\n",
      "60000/60000 [==============================] - 12s 204us/step - loss: 0.1065 - val_loss: 0.1041\n",
      "Epoch 22/50\n",
      "60000/60000 [==============================] - 12s 204us/step - loss: 0.1063 - val_loss: 0.1065\n",
      "Epoch 23/50\n",
      "60000/60000 [==============================] - 12s 204us/step - loss: 0.1055 - val_loss: 0.1058\n",
      "Epoch 24/50\n",
      "60000/60000 [==============================] - 12s 205us/step - loss: 0.1052 - val_loss: 0.1045\n",
      "Epoch 25/50\n",
      "60000/60000 [==============================] - 12s 204us/step - loss: 0.1052 - val_loss: 0.1037\n",
      "Epoch 26/50\n",
      "60000/60000 [==============================] - 12s 205us/step - loss: 0.1048 - val_loss: 0.1019\n",
      "Epoch 27/50\n",
      "60000/60000 [==============================] - 12s 206us/step - loss: 0.1043 - val_loss: 0.1017\n",
      "Epoch 28/50\n",
      "60000/60000 [==============================] - 12s 205us/step - loss: 0.1040 - val_loss: 0.1034\n",
      "Epoch 29/50\n",
      "60000/60000 [==============================] - 12s 206us/step - loss: 0.1036 - val_loss: 0.1025\n",
      "Epoch 30/50\n",
      "60000/60000 [==============================] - 12s 206us/step - loss: 0.1034 - val_loss: 0.1022\n",
      "Epoch 31/50\n",
      "60000/60000 [==============================] - 12s 207us/step - loss: 0.1029 - val_loss: 0.1009\n",
      "Epoch 32/50\n",
      "60000/60000 [==============================] - 12s 206us/step - loss: 0.1026 - val_loss: 0.1034\n",
      "Epoch 33/50\n",
      "60000/60000 [==============================] - 12s 207us/step - loss: 0.1025 - val_loss: 0.1031\n",
      "Epoch 34/50\n",
      "60000/60000 [==============================] - 12s 208us/step - loss: 0.1021 - val_loss: 0.0997\n",
      "Epoch 35/50\n",
      "60000/60000 [==============================] - 12s 208us/step - loss: 0.1020 - val_loss: 0.1019\n",
      "Epoch 36/50\n",
      "60000/60000 [==============================] - 13s 208us/step - loss: 0.1021 - val_loss: 0.0988\n",
      "Epoch 37/50\n",
      "60000/60000 [==============================] - 13s 209us/step - loss: 0.1014 - val_loss: 0.0994\n",
      "Epoch 38/50\n",
      "60000/60000 [==============================] - 13s 209us/step - loss: 0.1011 - val_loss: 0.0997\n",
      "Epoch 39/50\n",
      "60000/60000 [==============================] - 13s 208us/step - loss: 0.1013 - val_loss: 0.1011\n",
      "Epoch 40/50\n",
      "60000/60000 [==============================] - 13s 209us/step - loss: 0.1013 - val_loss: 0.0996\n",
      "Epoch 41/50\n",
      "60000/60000 [==============================] - 13s 208us/step - loss: 0.1010 - val_loss: 0.1014\n",
      "Epoch 42/50\n",
      "60000/60000 [==============================] - 13s 209us/step - loss: 0.1007 - val_loss: 0.1031\n",
      "Epoch 43/50\n",
      "60000/60000 [==============================] - 13s 209us/step - loss: 0.1007 - val_loss: 0.1003\n",
      "Epoch 44/50\n",
      "60000/60000 [==============================] - 13s 209us/step - loss: 0.1002 - val_loss: 0.0997\n",
      "Epoch 45/50\n",
      "60000/60000 [==============================] - 13s 209us/step - loss: 0.1000 - val_loss: 0.0965\n",
      "Epoch 46/50\n",
      "60000/60000 [==============================] - 13s 209us/step - loss: 0.1000 - val_loss: 0.0967\n",
      "Epoch 47/50\n",
      "60000/60000 [==============================] - 13s 209us/step - loss: 0.0995 - val_loss: 0.0998\n",
      "Epoch 48/50\n",
      "60000/60000 [==============================] - 13s 208us/step - loss: 0.0997 - val_loss: 0.0987\n",
      "Epoch 49/50\n",
      "60000/60000 [==============================] - 13s 209us/step - loss: 0.0996 - val_loss: 0.0994\n",
      "Epoch 50/50\n",
      "60000/60000 [==============================] - 13s 209us/step - loss: 0.0993 - val_loss: 0.0983\n"
     ]
    },
    {
     "data": {
      "text/plain": [
       "<keras.callbacks.History at 0x7f704b3fc5c0>"
      ]
     },
     "execution_count": 1,
     "metadata": {},
     "output_type": "execute_result"
    }
   ],
   "source": [
    "import numpy as np\n",
    "import matplotlib.pyplot as plt\n",
    "\n",
    "from keras.layers import Input, Dense, Conv2D, MaxPooling2D, UpSampling2D\n",
    "from keras.models import Model\n",
    "from keras import backend as K\n",
    "from keras.datasets import mnist\n",
    "\n",
    "epochs = 50\n",
    "\n",
    "input_img = Input(shape=(28, 28, 1))  # adapt this if using `channels_first` image data format\n",
    "\n",
    "x = Conv2D(16, (3, 3), activation='relu', padding='same')(input_img)\n",
    "x = MaxPooling2D((2, 2), padding='same')(x)\n",
    "x = Conv2D(8, (3, 3), activation='relu', padding='same')(x)\n",
    "x = MaxPooling2D((2, 2), padding='same')(x)\n",
    "x = Conv2D(8, (3, 3), activation='relu', padding='same')(x)\n",
    "encoded = MaxPooling2D((2, 2), padding='same')(x)\n",
    "\n",
    "# at this point the representation is (4, 4, 8) i.e. 128-dimensional\n",
    "\n",
    "x = Conv2D(8, (3, 3), activation='relu', padding='same')(encoded)\n",
    "x = UpSampling2D((2, 2))(x)\n",
    "x = Conv2D(8, (3, 3), activation='relu', padding='same')(x)\n",
    "x = UpSampling2D((2, 2))(x)\n",
    "x = Conv2D(16, (3, 3), activation='relu')(x)\n",
    "x = UpSampling2D((2, 2))(x)\n",
    "decoded = Conv2D(1, (3, 3), activation='sigmoid', padding='same')(x)\n",
    "\n",
    "autoencoder = Model(input_img, decoded)\n",
    "autoencoder.compile(optimizer='adadelta', loss='binary_crossentropy')\n",
    "\n",
    "(x_train, _), (x_test, _) = mnist.load_data()\n",
    "\n",
    "x_train = x_train.astype('float32') / 255.\n",
    "x_test = x_test.astype('float32') / 255.\n",
    "x_train = np.reshape(x_train, (len(x_train), 28, 28, 1))  # adapt this if using `channels_first` image data format\n",
    "x_test = np.reshape(x_test, (len(x_test), 28, 28, 1))  # adapt this if using `channels_first` image data format\n",
    "\n",
    "autoencoder.fit(x_train, x_train,\n",
    "                epochs=epochs,\n",
    "                batch_size=128,\n",
    "                shuffle=True,\n",
    "                validation_data=(x_test, x_test))"
   ]
  },
  {
   "cell_type": "code",
   "execution_count": 2,
   "metadata": {},
   "outputs": [],
   "source": [
    "# autoencoder.save(\"models/conv_autoencoder.h5\")"
   ]
  },
  {
   "cell_type": "code",
   "execution_count": 3,
   "metadata": {},
   "outputs": [
    {
     "data": {
      "image/png": "[encoded data removed]",
      "text/plain": [
       "<matplotlib.figure.Figure at 0x7f70145c3390>"
      ]
     },
     "metadata": {},
     "output_type": "display_data"
    }
   ],
   "source": [
    "import matplotlib.pyplot as plt\n",
    "\n",
    "\n",
    "decoded_imgs = autoencoder.predict(x_test)\n",
    "\n",
    "n = 10\n",
    "plt.figure(figsize=(20, 4))\n",
    "for i in range(n):\n",
    "    # display original\n",
    "    ax = plt.subplot(2, n, i+1)\n",
    "    plt.imshow(x_test[i].reshape(28, 28))\n",
    "    plt.gray()\n",
    "    ax.get_xaxis().set_visible(False)\n",
    "    ax.get_yaxis().set_visible(False)\n",
    "\n",
    "    # display reconstruction\n",
    "    ax = plt.subplot(2, n, i + n + 1)\n",
    "    plt.imshow(decoded_imgs[i].reshape(28, 28))\n",
    "    plt.gray()\n",
    "    ax.get_xaxis().set_visible(False)\n",
    "    ax.get_yaxis().set_visible(False)\n",
    "plt.show()"
   ]
  },
  {
   "cell_type": "code",
   "execution_count": null,
   "metadata": {},
   "outputs": [],
   "source": []
  }
 ],
 "metadata": {
  "kernelspec": {
   "display_name": "Python 3",
   "language": "python",
   "name": "python3"
  },
  "language_info": {
   "codemirror_mode": {
    "name": "ipython",
    "version": 3
   },
   "file_extension": ".py",
   "mimetype": "text/x-python",
   "name": "python",
   "nbconvert_exporter": "python",
   "pygments_lexer": "ipython3",
   "version": "3.6.3"
  }
 },
 "nbformat": 4,
 "nbformat_minor": 2
}
