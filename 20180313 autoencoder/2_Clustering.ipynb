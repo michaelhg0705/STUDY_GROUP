{
 "cells": [
  {
   "cell_type": "code",
   "execution_count": null,
   "metadata": {},
   "outputs": [],
   "source": [
    "import numpy as np\n",
    "import matplotlib.pyplot as plt\n",
    "\n",
    "from sklearn.cluster import KMeans\n",
    "from sklearn.decomposition import PCA\n",
    "from keras.datasets import mnist\n",
    "\n",
    "(x_train, y_train), (x_test, y_test) = mnist.load_data()\n",
    "x_train = x_train.astype('float32') / 255.\n",
    "x_test = x_test.astype('float32') / 255.\n",
    "x_train = x_train.reshape((len(x_train), np.prod(x_train.shape[1:])))\n",
    "x_test = x_test.reshape((len(x_test), np.prod(x_test.shape[1:])))"
   ]
  },
  {
   "cell_type": "markdown",
   "metadata": {},
   "source": [
    "# PCA"
   ]
  },
  {
   "cell_type": "code",
   "execution_count": null,
   "metadata": {},
   "outputs": [],
   "source": [
    "pca = PCA(n_components=2).fit(x_train)"
   ]
  },
  {
   "cell_type": "markdown",
   "metadata": {},
   "source": [
    "# Simple autoencoder  \n",
    "784 -> 2 -> 784"
   ]
  },
  {
   "cell_type": "code",
   "execution_count": null,
   "metadata": {
    "scrolled": true
   },
   "outputs": [],
   "source": [
    "from keras.layers import Input, Dense\n",
    "from keras.models import Model\n",
    "import keras.backend as k\n",
    "\n",
    "epochs = 50\n",
    "\n",
    "input_img = Input(shape=( 'Fix_me' ,))\n",
    "encoded = Dense( 'Fix_me' , activation='relu')(input_img)\n",
    "decoded = Dense( 'Fix_me' , activation='sigmoid')(encoded)\n",
    "\n",
    "simple_autoencoder = Model(input_img, decoded)\n",
    "simple_encoder = Model(input_img, encoded)\n",
    "\n",
    "encoded_input = Input(shape=('Fix_me',))\n",
    "decoder_layer = simple_autoencoder.layers[-1]\n",
    "simple_decoder = Model(encoded_input, decoder_layer(encoded_input))\n",
    "\n",
    "simple_autoencoder.compile(optimizer='adadelta', loss='binary_crossentropy')\n",
    "\n",
    "simple_autoencoder.fit(x_train, x_train,\n",
    "                epochs=epochs,\n",
    "                batch_size=256,\n",
    "                shuffle=True,\n",
    "                validation_data=(x_test, x_test))"
   ]
  },
  {
   "cell_type": "markdown",
   "metadata": {},
   "source": [
    "# Deep autoencoder  \n",
    "784 -> 512 -> 128 -> 32 -> 2 -> 32 -> 128 -> 512 -> 784"
   ]
  },
  {
   "cell_type": "code",
   "execution_count": null,
   "metadata": {},
   "outputs": [],
   "source": [
    "import keras.layers\n",
    "\n",
    "epochs = 50\n",
    "\n",
    "input_img = Input(shape=('Fix_me',))\n",
    "decoder_input = Input(shape=('Fix_me',))\n",
    "\n",
    "encoded = Dense('Fix_me', activation='relu')(input_img)\n",
    "encoded = Dense('Fix_me', activation='relu')(encoded)\n",
    "encoded = Dense('Fix_me', activation='relu')(encoded)\n",
    "encoded = Dense('Fix_me', activation='relu')(encoded)\n",
    "\n",
    "deep_encoder = Model(input_img, encoded)\n",
    "\n",
    "decoder = decoder_input\n",
    "\n",
    "layer = Dense('Fix_me', activation='relu')\n",
    "decoded = layer(encoded)\n",
    "decoder = layer(decoder)\n",
    "\n",
    "layer = Dense('Fix_me', activation='relu')\n",
    "decoded = layer(encoded)\n",
    "decoder = layer(decoder)\n",
    "\n",
    "layer = Dense('Fix_me', activation='relu')\n",
    "decoded = layer(decoded)\n",
    "decoder = layer(decoder)\n",
    "\n",
    "layer = Dense('Fix_me', activation='sigmoid')\n",
    "decoded = layer(decoded)\n",
    "decoder = layer(decoder)\n",
    "\n",
    "deep_decoder = Model(decoder_input, decoder)\n",
    "\n",
    "deep_autoencoder = Model(input_img, decoded)\n",
    "\n",
    "deep_autoencoder.compile(optimizer='adadelta', loss='binary_crossentropy')\n",
    "\n",
    "deep_autoencoder.fit(x_train, x_train,\n",
    "                epochs=epochs,\n",
    "                batch_size=256,\n",
    "                shuffle=True,\n",
    "                validation_data=(x_test, x_test))"
   ]
  },
  {
   "cell_type": "code",
   "execution_count": null,
   "metadata": {},
   "outputs": [],
   "source": [
    "x_test_pca_vec = pca.transform(x_test)\n",
    "x_test_simple_code = simple_encoder.predict(x_test)\n",
    "x_test_deep_code = deep_encoder.predict(x_test)\n",
    "\n",
    "ax = plt.subplot(1, 3, 1)\n",
    "plt.title(\"PCA\")\n",
    "plt.scatter(x_test_pca_vec[:,0], x_test_pca_vec[:,1], c=y_test, cmap=plt.cm.Paired)\n",
    "\n",
    "ax = plt.subplot(1, 3, 2)\n",
    "plt.title(\"Simple autoencoder\")\n",
    "plt.scatter(x_test_simple_code[:,0], x_test_simple_code[:,1], c=y_test, cmap=plt.cm.Paired)\n",
    "\n",
    "ax = plt.subplot(1, 3, 3)\n",
    "plt.title(\"Deep autoencoder\")\n",
    "plt.scatter(x_test_deep_code[:,0], x_test_deep_code[:,1], c=y_test, cmap=plt.cm.Paired)\n",
    "\n",
    "plt.show()"
   ]
  },
  {
   "cell_type": "code",
   "execution_count": null,
   "metadata": {},
   "outputs": [],
   "source": []
  }
 ],
 "metadata": {
  "kernelspec": {
   "display_name": "Python 3",
   "language": "python",
   "name": "python3"
  },
  "language_info": {
   "codemirror_mode": {
    "name": "ipython",
    "version": 3
   },
   "file_extension": ".py",
   "mimetype": "text/x-python",
   "name": "python",
   "nbconvert_exporter": "python",
   "pygments_lexer": "ipython3",
   "version": "3.6.3"
  }
 },
 "nbformat": 4,
 "nbformat_minor": 2
}
