{
 "cells": [
  {
   "cell_type": "code",
   "execution_count": 12,
   "metadata": {},
   "outputs": [
    {
     "name": "stdout",
     "output_type": "stream",
     "text": [
      "x_train (60000, 28, 28)\n",
      "y_train (60000,)\n",
      "y_train {0, 1, 2, 3, 4, 5, 6, 7, 8, 9}\n",
      "x_test (10000, 28, 28)\n",
      "y_test (10000,)\n",
      "y_test {0, 1, 2, 3, 4, 5, 6, 7, 8, 9}\n"
     ]
    },
    {
     "data": {
      "image/png": "[encoded data removed]",
      "text/plain": [
       "<matplotlib.figure.Figure at 0x7fe6bfe3da20>"
      ]
     },
     "metadata": {},
     "output_type": "display_data"
    }
   ],
   "source": [
    "import numpy as np\n",
    "import matplotlib.pyplot as plt\n",
    "\n",
    "from sklearn.cluster import KMeans\n",
    "from sklearn.decomposition import PCA\n",
    "from keras.datasets import mnist\n",
    "(x_train, y_train), (x_test, y_test) = mnist.load_data()\n",
    "\n",
    "print(\"x_train\", x_train.shape)\n",
    "print(\"y_train\", y_train.shape)\n",
    "print(\"y_train\", set(y_train))\n",
    "\n",
    "print(\"x_test\", x_test.shape)\n",
    "print(\"y_test\", y_test.shape)\n",
    "print(\"y_test\", set(y_test))\n",
    "\n",
    "n = 10\n",
    "plt.figure(figsize=(20, 4))\n",
    "for i in range(n):\n",
    "    ax = plt.subplot(1, n, i + 1)\n",
    "    plt.title(y_train[i])\n",
    "    plt.imshow(x_train[i].reshape(28, 28))\n",
    "    plt.gray()\n",
    "    ax.get_xaxis().set_visible(False)\n",
    "    ax.get_yaxis().set_visible(False)\n",
    "plt.show()"
   ]
  },
  {
   "cell_type": "code",
   "execution_count": 2,
   "metadata": {},
   "outputs": [
    {
     "name": "stdout",
     "output_type": "stream",
     "text": [
      "(60000, 784)\n",
      "(10000, 784)\n"
     ]
    }
   ],
   "source": [
    "x_train = x_train.astype('float32') / 255.\n",
    "x_test = x_test.astype('float32') / 255.\n",
    "x_train = x_train.reshape((len(x_train), np.prod(x_train.shape[1:])))\n",
    "x_test = x_test.reshape((len(x_test), np.prod(x_test.shape[1:])))\n",
    "print(x_train.shape)\n",
    "print(x_test.shape)"
   ]
  },
  {
   "cell_type": "markdown",
   "metadata": {},
   "source": [
    "# Simple Autoencoder"
   ]
  },
  {
   "cell_type": "code",
   "execution_count": 3,
   "metadata": {},
   "outputs": [],
   "source": [
    "from keras.layers import Input, Dense\n",
    "from keras.models import Model\n",
    "import keras.backend as k\n",
    "\n",
    "epochs = 50\n",
    "encoding_dim = 32\n",
    "\n",
    "input_img = Input(shape=(784,))\n",
    "encoded = Dense(encoding_dim, activation='relu')(input_img)\n",
    "decoded = Dense(784, activation='sigmoid')(encoded)\n",
    "\n",
    "autoencoder = Model(input_img, decoded)\n",
    "encoder = Model(input_img, encoded)\n",
    "\n",
    "encoded_input = Input(shape=(encoding_dim,))\n",
    "decoder_layer = autoencoder.layers[-1]\n",
    "decoder = Model(encoded_input, decoder_layer(encoded_input))\n",
    "\n",
    "autoencoder.compile(optimizer='adadelta', loss='binary_crossentropy')"
   ]
  },
  {
   "cell_type": "code",
   "execution_count": 4,
   "metadata": {
    "scrolled": false
   },
   "outputs": [
    {
     "name": "stdout",
     "output_type": "stream",
     "text": [
      "Train on 60000 samples, validate on 10000 samples\n",
      "Epoch 1/50\n",
      "60000/60000 [==============================] - 2s 28us/step - loss: 0.3680 - val_loss: 0.2714\n",
      "Epoch 2/50\n",
      "60000/60000 [==============================] - 1s 17us/step - loss: 0.2640 - val_loss: 0.2530\n",
      "Epoch 3/50\n",
      "60000/60000 [==============================] - 1s 17us/step - loss: 0.2429 - val_loss: 0.2307\n",
      "Epoch 4/50\n",
      "60000/60000 [==============================] - 1s 18us/step - loss: 0.2234 - val_loss: 0.2137\n",
      "Epoch 5/50\n",
      "60000/60000 [==============================] - 1s 17us/step - loss: 0.2090 - val_loss: 0.2017\n",
      "Epoch 6/50\n",
      "60000/60000 [==============================] - 1s 18us/step - loss: 0.1986 - val_loss: 0.1928\n",
      "Epoch 7/50\n",
      "60000/60000 [==============================] - 1s 17us/step - loss: 0.1904 - val_loss: 0.1853\n",
      "Epoch 8/50\n",
      "60000/60000 [==============================] - 1s 17us/step - loss: 0.1836 - val_loss: 0.1790\n",
      "Epoch 9/50\n",
      "60000/60000 [==============================] - 1s 17us/step - loss: 0.1775 - val_loss: 0.1734\n",
      "Epoch 10/50\n",
      "60000/60000 [==============================] - 1s 17us/step - loss: 0.1722 - val_loss: 0.1683\n",
      "Epoch 11/50\n",
      "60000/60000 [==============================] - 1s 18us/step - loss: 0.1673 - val_loss: 0.1637\n",
      "Epoch 12/50\n",
      "60000/60000 [==============================] - 1s 17us/step - loss: 0.1630 - val_loss: 0.1594\n",
      "Epoch 13/50\n",
      "60000/60000 [==============================] - 1s 17us/step - loss: 0.1590 - val_loss: 0.1556\n",
      "Epoch 14/50\n",
      "60000/60000 [==============================] - 1s 17us/step - loss: 0.1552 - val_loss: 0.1520\n",
      "Epoch 15/50\n",
      "60000/60000 [==============================] - 1s 17us/step - loss: 0.1518 - val_loss: 0.1486\n",
      "Epoch 16/50\n",
      "60000/60000 [==============================] - 1s 18us/step - loss: 0.1486 - val_loss: 0.1457\n",
      "Epoch 17/50\n",
      "60000/60000 [==============================] - 1s 18us/step - loss: 0.1456 - val_loss: 0.1425\n",
      "Epoch 18/50\n",
      "60000/60000 [==============================] - 1s 17us/step - loss: 0.1428 - val_loss: 0.1398\n",
      "Epoch 19/50\n",
      "60000/60000 [==============================] - 1s 17us/step - loss: 0.1401 - val_loss: 0.1372\n",
      "Epoch 20/50\n",
      "60000/60000 [==============================] - 1s 18us/step - loss: 0.1375 - val_loss: 0.1347\n",
      "Epoch 21/50\n",
      "60000/60000 [==============================] - 1s 17us/step - loss: 0.1351 - val_loss: 0.1323\n",
      "Epoch 22/50\n",
      "60000/60000 [==============================] - 1s 17us/step - loss: 0.1328 - val_loss: 0.1300\n",
      "Epoch 23/50\n",
      "60000/60000 [==============================] - 1s 17us/step - loss: 0.1306 - val_loss: 0.1278\n",
      "Epoch 24/50\n",
      "60000/60000 [==============================] - 1s 18us/step - loss: 0.1285 - val_loss: 0.1258\n",
      "Epoch 25/50\n",
      "60000/60000 [==============================] - 1s 18us/step - loss: 0.1264 - val_loss: 0.1238\n",
      "Epoch 26/50\n",
      "60000/60000 [==============================] - 1s 17us/step - loss: 0.1245 - val_loss: 0.1219\n",
      "Epoch 27/50\n",
      "60000/60000 [==============================] - 1s 17us/step - loss: 0.1227 - val_loss: 0.1201\n",
      "Epoch 28/50\n",
      "60000/60000 [==============================] - 1s 17us/step - loss: 0.1209 - val_loss: 0.1184\n",
      "Epoch 29/50\n",
      "60000/60000 [==============================] - 1s 17us/step - loss: 0.1193 - val_loss: 0.1168\n",
      "Epoch 30/50\n",
      "60000/60000 [==============================] - 1s 18us/step - loss: 0.1178 - val_loss: 0.1153\n",
      "Epoch 31/50\n",
      "60000/60000 [==============================] - 1s 17us/step - loss: 0.1163 - val_loss: 0.1140\n",
      "Epoch 32/50\n",
      "60000/60000 [==============================] - 1s 17us/step - loss: 0.1150 - val_loss: 0.1127\n",
      "Epoch 33/50\n",
      "60000/60000 [==============================] - 1s 17us/step - loss: 0.1138 - val_loss: 0.1115\n",
      "Epoch 34/50\n",
      "60000/60000 [==============================] - 1s 17us/step - loss: 0.1127 - val_loss: 0.1105\n",
      "Epoch 35/50\n",
      "60000/60000 [==============================] - 1s 17us/step - loss: 0.1116 - val_loss: 0.1095\n",
      "Epoch 36/50\n",
      "60000/60000 [==============================] - 1s 17us/step - loss: 0.1107 - val_loss: 0.1086\n",
      "Epoch 37/50\n",
      "60000/60000 [==============================] - 1s 17us/step - loss: 0.1098 - val_loss: 0.1077\n",
      "Epoch 38/50\n",
      "60000/60000 [==============================] - 1s 17us/step - loss: 0.1090 - val_loss: 0.1069\n",
      "Epoch 39/50\n",
      "60000/60000 [==============================] - 1s 17us/step - loss: 0.1082 - val_loss: 0.1062\n",
      "Epoch 40/50\n",
      "60000/60000 [==============================] - 1s 17us/step - loss: 0.1075 - val_loss: 0.1055\n",
      "Epoch 41/50\n",
      "60000/60000 [==============================] - 1s 17us/step - loss: 0.1068 - val_loss: 0.1049\n",
      "Epoch 42/50\n",
      "60000/60000 [==============================] - 1s 18us/step - loss: 0.1062 - val_loss: 0.1043\n",
      "Epoch 43/50\n",
      "60000/60000 [==============================] - 1s 17us/step - loss: 0.1056 - val_loss: 0.1037\n",
      "Epoch 44/50\n",
      "60000/60000 [==============================] - 1s 17us/step - loss: 0.1050 - val_loss: 0.1032\n",
      "Epoch 45/50\n",
      "60000/60000 [==============================] - 1s 17us/step - loss: 0.1045 - val_loss: 0.1027\n",
      "Epoch 46/50\n",
      "60000/60000 [==============================] - 1s 17us/step - loss: 0.1040 - val_loss: 0.1022\n",
      "Epoch 47/50\n",
      "60000/60000 [==============================] - 1s 18us/step - loss: 0.1036 - val_loss: 0.1018\n",
      "Epoch 48/50\n",
      "60000/60000 [==============================] - 1s 17us/step - loss: 0.1031 - val_loss: 0.1014\n",
      "Epoch 49/50\n",
      "60000/60000 [==============================] - 1s 17us/step - loss: 0.1027 - val_loss: 0.1010\n",
      "Epoch 50/50\n",
      "60000/60000 [==============================] - 1s 17us/step - loss: 0.1023 - val_loss: 0.1006\n"
     ]
    },
    {
     "data": {
      "text/plain": [
       "<keras.callbacks.History at 0x7fe6bfd890f0>"
      ]
     },
     "execution_count": 4,
     "metadata": {},
     "output_type": "execute_result"
    }
   ],
   "source": [
    "autoencoder.fit(x_train, x_train,\n",
    "                epochs=epochs,\n",
    "                batch_size=256,\n",
    "                shuffle=True,\n",
    "                validation_data=(x_test, x_test))"
   ]
  },
  {
   "cell_type": "code",
   "execution_count": 5,
   "metadata": {},
   "outputs": [],
   "source": [
    "# encoder.save(\"models/simple_encoder.h5\")\n",
    "# decoder.save(\"models/simple_decoder.h5\")\n",
    "# autoencoder.save(\"models/simple_autoencoder.h5\")"
   ]
  },
  {
   "cell_type": "code",
   "execution_count": 6,
   "metadata": {},
   "outputs": [
    {
     "name": "stdout",
     "output_type": "stream",
     "text": [
      "(10000, 32)\n",
      "(10000, 784)\n"
     ]
    }
   ],
   "source": [
    "encoded_imgs = encoder.predict(x_test)\n",
    "print(encoded_imgs.shape)\n",
    "decoded_imgs = decoder.predict(encoded_imgs)\n",
    "print(decoded_imgs.shape)"
   ]
  },
  {
   "cell_type": "code",
   "execution_count": 7,
   "metadata": {},
   "outputs": [
    {
     "data": {
      "image/png": "[encoded data removed]",
      "text/plain": [
       "<matplotlib.figure.Figure at 0x7fe6b4091358>"
      ]
     },
     "metadata": {},
     "output_type": "display_data"
    }
   ],
   "source": [
    "import matplotlib.pyplot as plt\n",
    "\n",
    "n = 10\n",
    "plt.figure(figsize=(20, 4))\n",
    "for i in range(n):\n",
    "    ax = plt.subplot(2, n, i + 1)\n",
    "    plt.imshow(x_test[i].reshape(28, 28))\n",
    "    plt.gray()\n",
    "    ax.get_xaxis().set_visible(False)\n",
    "    ax.get_yaxis().set_visible(False)\n",
    "\n",
    "    ax = plt.subplot(2, n, i + 1 + n)\n",
    "    plt.imshow(decoded_imgs[i].reshape(28, 28))\n",
    "    plt.gray()\n",
    "    ax.get_xaxis().set_visible(False)\n",
    "    ax.get_yaxis().set_visible(False)\n",
    "plt.show()"
   ]
  },
  {
   "cell_type": "markdown",
   "metadata": {},
   "source": [
    "# Deep Autoencoder"
   ]
  },
  {
   "cell_type": "code",
   "execution_count": 8,
   "metadata": {
    "scrolled": false
   },
   "outputs": [
    {
     "name": "stdout",
     "output_type": "stream",
     "text": [
      "Train on 60000 samples, validate on 10000 samples\n",
      "Epoch 1/50\n",
      "60000/60000 [==============================] - 2s 27us/step - loss: 0.3412 - val_loss: 0.2659\n",
      "Epoch 2/50\n",
      "60000/60000 [==============================] - 1s 24us/step - loss: 0.2556 - val_loss: 0.2464\n",
      "Epoch 3/50\n",
      "60000/60000 [==============================] - 1s 24us/step - loss: 0.2357 - val_loss: 0.2238\n",
      "Epoch 4/50\n",
      "60000/60000 [==============================] - 1s 24us/step - loss: 0.2151 - val_loss: 0.2066\n",
      "Epoch 5/50\n",
      "60000/60000 [==============================] - 1s 24us/step - loss: 0.2024 - val_loss: 0.1955\n",
      "Epoch 6/50\n",
      "60000/60000 [==============================] - 1s 24us/step - loss: 0.1908 - val_loss: 0.1834\n",
      "Epoch 7/50\n",
      "60000/60000 [==============================] - 1s 25us/step - loss: 0.1822 - val_loss: 0.1768\n",
      "Epoch 8/50\n",
      "60000/60000 [==============================] - 1s 24us/step - loss: 0.1755 - val_loss: 0.1695\n",
      "Epoch 9/50\n",
      "60000/60000 [==============================] - 1s 24us/step - loss: 0.1698 - val_loss: 0.1658\n",
      "Epoch 10/50\n",
      "60000/60000 [==============================] - 1s 24us/step - loss: 0.1648 - val_loss: 0.1590\n",
      "Epoch 11/50\n",
      "60000/60000 [==============================] - 1s 24us/step - loss: 0.1598 - val_loss: 0.1564\n",
      "Epoch 12/50\n",
      "60000/60000 [==============================] - 1s 25us/step - loss: 0.1555 - val_loss: 0.1516\n",
      "Epoch 13/50\n",
      "60000/60000 [==============================] - 1s 24us/step - loss: 0.1518 - val_loss: 0.1482\n",
      "Epoch 14/50\n",
      "60000/60000 [==============================] - 1s 24us/step - loss: 0.1489 - val_loss: 0.1474\n",
      "Epoch 15/50\n",
      "60000/60000 [==============================] - 1s 24us/step - loss: 0.1465 - val_loss: 0.1430\n",
      "Epoch 16/50\n",
      "60000/60000 [==============================] - 1s 24us/step - loss: 0.1442 - val_loss: 0.1438\n",
      "Epoch 17/50\n",
      "60000/60000 [==============================] - 1s 24us/step - loss: 0.1421 - val_loss: 0.1390\n",
      "Epoch 18/50\n",
      "60000/60000 [==============================] - 1s 24us/step - loss: 0.1397 - val_loss: 0.1384\n",
      "Epoch 19/50\n",
      "60000/60000 [==============================] - 1s 24us/step - loss: 0.1377 - val_loss: 0.1337\n",
      "Epoch 20/50\n",
      "60000/60000 [==============================] - 1s 24us/step - loss: 0.1360 - val_loss: 0.1330\n",
      "Epoch 21/50\n",
      "60000/60000 [==============================] - 1s 24us/step - loss: 0.1343 - val_loss: 0.1312\n",
      "Epoch 22/50\n",
      "60000/60000 [==============================] - 1s 24us/step - loss: 0.1331 - val_loss: 0.1311\n",
      "Epoch 23/50\n",
      "60000/60000 [==============================] - 1s 24us/step - loss: 0.1319 - val_loss: 0.1297\n",
      "Epoch 24/50\n",
      "60000/60000 [==============================] - 1s 24us/step - loss: 0.1306 - val_loss: 0.1275\n",
      "Epoch 25/50\n",
      "60000/60000 [==============================] - 1s 24us/step - loss: 0.1296 - val_loss: 0.1282\n",
      "Epoch 26/50\n",
      "60000/60000 [==============================] - 1s 24us/step - loss: 0.1284 - val_loss: 0.1273\n",
      "Epoch 27/50\n",
      "60000/60000 [==============================] - 1s 25us/step - loss: 0.1274 - val_loss: 0.1257\n",
      "Epoch 28/50\n",
      "60000/60000 [==============================] - 1s 24us/step - loss: 0.1261 - val_loss: 0.1259\n",
      "Epoch 29/50\n",
      "60000/60000 [==============================] - 1s 24us/step - loss: 0.1251 - val_loss: 0.1234\n",
      "Epoch 30/50\n",
      "60000/60000 [==============================] - 1s 24us/step - loss: 0.1241 - val_loss: 0.1222\n",
      "Epoch 31/50\n",
      "60000/60000 [==============================] - 1s 25us/step - loss: 0.1233 - val_loss: 0.1247\n",
      "Epoch 32/50\n",
      "60000/60000 [==============================] - 1s 25us/step - loss: 0.1224 - val_loss: 0.1207\n",
      "Epoch 33/50\n",
      "60000/60000 [==============================] - 1s 25us/step - loss: 0.1217 - val_loss: 0.1208\n",
      "Epoch 34/50\n",
      "60000/60000 [==============================] - 1s 24us/step - loss: 0.1209 - val_loss: 0.1188\n",
      "Epoch 35/50\n",
      "60000/60000 [==============================] - 1s 24us/step - loss: 0.1202 - val_loss: 0.1174\n",
      "Epoch 36/50\n",
      "60000/60000 [==============================] - 1s 24us/step - loss: 0.1195 - val_loss: 0.1184\n",
      "Epoch 37/50\n",
      "60000/60000 [==============================] - 1s 25us/step - loss: 0.1186 - val_loss: 0.1167\n",
      "Epoch 38/50\n",
      "60000/60000 [==============================] - 1s 24us/step - loss: 0.1179 - val_loss: 0.1189\n",
      "Epoch 39/50\n",
      "60000/60000 [==============================] - 1s 24us/step - loss: 0.1173 - val_loss: 0.1156\n",
      "Epoch 40/50\n",
      "60000/60000 [==============================] - 1s 24us/step - loss: 0.1166 - val_loss: 0.1145\n",
      "Epoch 41/50\n",
      "60000/60000 [==============================] - 1s 24us/step - loss: 0.1160 - val_loss: 0.1135\n",
      "Epoch 42/50\n",
      "60000/60000 [==============================] - 1s 24us/step - loss: 0.1154 - val_loss: 0.1148\n",
      "Epoch 43/50\n",
      "60000/60000 [==============================] - 1s 24us/step - loss: 0.1149 - val_loss: 0.1123\n",
      "Epoch 44/50\n",
      "60000/60000 [==============================] - 1s 24us/step - loss: 0.1143 - val_loss: 0.1123\n",
      "Epoch 45/50\n",
      "60000/60000 [==============================] - 1s 24us/step - loss: 0.1138 - val_loss: 0.1121\n",
      "Epoch 46/50\n",
      "60000/60000 [==============================] - 1s 24us/step - loss: 0.1133 - val_loss: 0.1116\n",
      "Epoch 47/50\n",
      "60000/60000 [==============================] - 1s 25us/step - loss: 0.1129 - val_loss: 0.1110\n",
      "Epoch 48/50\n",
      "60000/60000 [==============================] - 1s 24us/step - loss: 0.1124 - val_loss: 0.1093\n",
      "Epoch 49/50\n",
      "60000/60000 [==============================] - 1s 24us/step - loss: 0.1119 - val_loss: 0.1111\n",
      "Epoch 50/50\n",
      "60000/60000 [==============================] - 1s 24us/step - loss: 0.1116 - val_loss: 0.1086\n"
     ]
    },
    {
     "data": {
      "text/plain": [
       "<keras.callbacks.History at 0x7fe6bfef6d30>"
      ]
     },
     "execution_count": 8,
     "metadata": {},
     "output_type": "execute_result"
    }
   ],
   "source": [
    "import keras.layers\n",
    "\n",
    "epochs = 50\n",
    "encoding_dim = 32\n",
    "\n",
    "input_img = Input(shape=(784,))\n",
    "decoder_input = Input(shape=(encoding_dim,))\n",
    "\n",
    "encoded = Dense(128, activation='relu')(input_img)\n",
    "encoded = Dense(64, activation='relu')(encoded)\n",
    "encoded = Dense(32, activation='relu')(encoded)\n",
    "\n",
    "encoder_model = Model(input_img, encoded)\n",
    "\n",
    "\n",
    "decoder = decoder_input\n",
    "\n",
    "layer = Dense(64, activation='relu')\n",
    "decoded = layer(encoded)\n",
    "decoder = layer(decoder)\n",
    "\n",
    "layer = Dense(128, activation='relu')\n",
    "decoded = layer(decoded)\n",
    "decoder = layer(decoder)\n",
    "\n",
    "layer = Dense(784, activation='sigmoid')\n",
    "decoded = layer(decoded)\n",
    "decoder = layer(decoder)\n",
    "\n",
    "decoder_model = Model(decoder_input, decoder)\n",
    "\n",
    "autoencoder = Model(input_img, decoded)\n",
    "\n",
    "autoencoder.compile(optimizer='adadelta', loss='binary_crossentropy')\n",
    "\n",
    "autoencoder.fit(x_train, x_train,\n",
    "                epochs=epochs,\n",
    "                batch_size=256,\n",
    "                shuffle=True,\n",
    "                validation_data=(x_test, x_test))"
   ]
  },
  {
   "cell_type": "code",
   "execution_count": 9,
   "metadata": {},
   "outputs": [],
   "source": [
    "# encoder_model.save(\"models/deep_encoder.h5\")\n",
    "# decoder_model.save(\"models/deep_decoder.h5\")\n",
    "# autoencoder.save(\"models/deep_autoencoder.h5\")"
   ]
  },
  {
   "cell_type": "code",
   "execution_count": 10,
   "metadata": {},
   "outputs": [
    {
     "name": "stdout",
     "output_type": "stream",
     "text": [
      "(10000, 32)\n",
      "(10000, 784)\n"
     ]
    }
   ],
   "source": [
    "encoded_imgs = encoder_model.predict(x_test)\n",
    "print(encoded_imgs.shape)\n",
    "decoded_imgs = decoder_model.predict(encoded_imgs)\n",
    "print(decoded_imgs.shape)"
   ]
  },
  {
   "cell_type": "code",
   "execution_count": 11,
   "metadata": {},
   "outputs": [
    {
     "data": {
      "image/png": "[encoded data removed]",
      "text/plain": [
       "<matplotlib.figure.Figure at 0x7fe6b40912b0>"
      ]
     },
     "metadata": {},
     "output_type": "display_data"
    }
   ],
   "source": [
    "import matplotlib.pyplot as plt\n",
    "\n",
    "n = 10\n",
    "plt.figure(figsize=(20, 4))\n",
    "for i in range(n):\n",
    "    ax = plt.subplot(2, n, i + 1)\n",
    "    plt.imshow(x_test[i].reshape(28, 28))\n",
    "    plt.gray()\n",
    "    ax.get_xaxis().set_visible(False)\n",
    "    ax.get_yaxis().set_visible(False)\n",
    "\n",
    "    ax = plt.subplot(2, n, i + 1 + n)\n",
    "    plt.imshow(decoded_imgs[i].reshape(28, 28))\n",
    "    plt.gray()\n",
    "    ax.get_xaxis().set_visible(False)\n",
    "    ax.get_yaxis().set_visible(False)\n",
    "plt.show()"
   ]
  }
 ],
 "metadata": {
  "kernelspec": {
   "display_name": "Python 3",
   "language": "python",
   "name": "python3"
  },
  "language_info": {
   "codemirror_mode": {
    "name": "ipython",
    "version": 3
   },
   "file_extension": ".py",
   "mimetype": "text/x-python",
   "name": "python",
   "nbconvert_exporter": "python",
   "pygments_lexer": "ipython3",
   "version": "3.6.3"
  }
 },
 "nbformat": 4,
 "nbformat_minor": 2
}
